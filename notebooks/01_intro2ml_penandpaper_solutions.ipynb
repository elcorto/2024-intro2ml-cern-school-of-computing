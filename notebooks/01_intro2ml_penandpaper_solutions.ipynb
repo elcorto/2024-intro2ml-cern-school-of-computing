{
 "cells": [
  {
   "cell_type": "markdown",
   "id": "a6133dee",
   "metadata": {},
   "source": [
    "# Solutions for exercise 01.4\n"
   ]
  },
  {
   "cell_type": "code",
   "execution_count": null,
   "id": "fa98e970",
   "metadata": {},
   "outputs": [],
   "source": [
    "import torch\n",
    "\n",
    "x = torch.Tensor([[2.]])\n",
    "y = torch.Tensor([[5.]])"
   ]
  },
  {
   "cell_type": "markdown",
   "id": "354f8449",
   "metadata": {
    "cell_marker": "\"\"\""
   },
   "source": [
    "The central building block of `pytorch` is a `torch.Tensor` object. The API of `Tensor` is very similar to that of a `numpy.ndarray`. That makes it easier to switch between libraries."
   ]
  },
  {
   "cell_type": "markdown",
   "id": "37160771",
   "metadata": {},
   "source": [
    "## Our model\n",
    "\n",
    "We start out by defining the input data and the outputs. We will use the data of Group 1 as an example.\n",
    "To define a neural network, the mechanics of pytorch require us to define a class. This class needs to be based of `torch.nn.Module`. Within the class, we have to define the `forward` function which is effectively the forward pass of our model."
   ]
  },
  {
   "cell_type": "code",
   "execution_count": null,
   "id": "e716d01e",
   "metadata": {},
   "outputs": [],
   "source": [
    "\n",
    "\n",
    "class f_prime_model(torch.nn.Module):\n",
    "\n",
    "    def __init__(self):\n",
    "        super().__init__()\n",
    "        #for more complicated models, this constructor will be rather complicated\n",
    "        self.hidden0 = torch.nn.Linear(in_features=1, out_features=1)\n",
    "        self.relu0 = torch.nn.ReLU()\n",
    "        self.hidden1 = torch.nn.Linear(in_features=1, out_features=1)\n",
    "        self.relu1 = torch.nn.ReLU()\n",
    "\n",
    "    def forward(self, x):\n",
    "        \"\"\" forward pass of our model, using x as the input data \"\"\"\n",
    "        h = self.hidden0(x)\n",
    "        h_ = self.relu0(h)\n",
    "        y_hat_ = self.hidden1(h_)\n",
    "        y_hat = self.relu1(y_hat_)\n",
    "\n",
    "        return y_hat\n",
    "\n",
    "\n",
    "def one_iteration(model,x,y,h0w=4.,h0b=2.,h1w=4.,h1b=2., verbose=False):\n",
    "\n",
    "    with torch.no_grad():\n",
    "        model.hidden0.weight.fill_(h0w)\n",
    "        model.hidden0.bias.fill_(h0b)\n",
    "        model.hidden1.weight.fill_(h1w)\n",
    "        model.hidden1.bias.fill_(h1b)\n",
    "\n",
    "    if verbose:\n",
    "        print(\"model parameters before weight update\")\n",
    "        for param in model.named_parameters():\n",
    "            name, value = param\n",
    "            print(name, value.item())\n",
    "\n",
    "    loss_fn = torch.nn.MSELoss()\n",
    "    opt = torch.optim.SGD(model.parameters(), lr=0.01)\n",
    "    y_hat = model(x)\n",
    "    loss = loss_fn(y_hat, y) #loss function computed (computational graph is internally established)\n",
    "    loss.backward() #backpropagate through loss function\n",
    "    opt.step() #weight updated step in model.paramters()\n",
    "\n",
    "    print(\"model parameters after weight update\")\n",
    "    for param in model.named_parameters():\n",
    "        name, value = param\n",
    "        print(name, value.item())\n",
    "\n",
    "    y_hat_prime = model(x)\n",
    "    print(f\"y_hat {y_hat.item()} -> {y_hat_prime.item()}\")\n",
    "\n",
    "    return model, loss_fn, opt"
   ]
  },
  {
   "cell_type": "code",
   "execution_count": null,
   "id": "65347e4b",
   "metadata": {
    "lines_to_next_cell": 0
   },
   "outputs": [],
   "source": [
    "print(\"Group 1\")\n",
    "one_iteration(f_prime_model(),\n",
    "              x,\n",
    "              y,\n",
    "              4.,2.,0.75,.5,verbose=True)\n",
    "print()"
   ]
  },
  {
   "cell_type": "code",
   "execution_count": null,
   "id": "5cfd04c4",
   "metadata": {},
   "outputs": [],
   "source": [
    "print(\"Group 2\")\n",
    "one_iteration(f_prime_model(),\n",
    "              x,\n",
    "              y,\n",
    "              2.,.25,5.,0.,verbose=True)\n",
    "print()"
   ]
  },
  {
   "cell_type": "code",
   "execution_count": null,
   "id": "beadc7ed",
   "metadata": {},
   "outputs": [],
   "source": [
    "print(\"Group 3\")\n",
    "one_iteration(f_prime_model(),\n",
    "              x,\n",
    "              y,\n",
    "              -4.,2.,0.75,-.5,verbose=True)\n",
    "print()"
   ]
  },
  {
   "cell_type": "code",
   "execution_count": null,
   "id": "b692bae0",
   "metadata": {},
   "outputs": [],
   "source": [
    "print(\"Group 4\")\n",
    "one_iteration(f_prime_model(),\n",
    "              x,\n",
    "              y,\n",
    "              2.,-.25,-5,0.,verbose=True)\n",
    "print()"
   ]
  },
  {
   "cell_type": "code",
   "execution_count": null,
   "id": "4ce4a1b9",
   "metadata": {},
   "outputs": [],
   "source": [
    "print(\"Group 5\")\n",
    "one_iteration(f_prime_model(),\n",
    "              x,\n",
    "              y,\n",
    "              1.,1.,1.,1.,verbose=True)\n",
    "print()"
   ]
  }
 ],
 "metadata": {
  "jupytext": {
   "formats": "ipynb,py:percent"
  },
  "kernelspec": {
   "display_name": "Python 3 (ipykernel)",
   "language": "python",
   "name": "python3"
  }
 },
 "nbformat": 4,
 "nbformat_minor": 5
}
