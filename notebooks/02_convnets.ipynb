{
 "cells": [
  {
   "cell_type": "markdown",
   "id": "6ff2d938",
   "metadata": {
    "cell_marker": "\"\"\""
   },
   "source": [
    "# Convolutional Neural Networks\n",
    "\n",
    "We covered Multi-layer Perceptrons (MLPs) in the last exercise. We now want to explore using `pytorch` for ML more. For this, we also will start looking into another popular network architecture called convolutional neural networks.\n",
    "\n",
    "We start this exploration with a small motivating Gedankenexperiment.\n",
    "\n",
    "## **Exercise 02.1** A MLP for my Phone\n",
    "\n",
    "Take out your phone. Check in the picture galery some of the last images you took. Try to find out how many pixels such an image has! You should arrive with a tuple that denominates height and width of such an image.\n",
    "\n",
    "Imagine you want to design an MLP network to categorize the pictures you took on your camera. We convert each image into a flat vector before feeding it into the network. We assume you like to use three hidden layers with 128 hidden neurons each. Then (for sake of the example) you want to predict a single category, i.e. your last layer has a size of 1. In this scenario, compute how many parameters such an MLP might have."
   ]
  },
  {
   "cell_type": "markdown",
   "id": "3617ae4d",
   "metadata": {
    "jupyter": {
     "source_hidden": true
    }
   },
   "source": [
    "### 02.1 Solution\n",
    "\n",
    "On my phone, I go to \"Gallery\", then select a picture. Then I \"click\" on properties (some phones call this information) and see that it has 2160 pixels in width and 3840 pixels in height (`2160x3840`). We ignore for the time being that most of these images are encoded as RGB or RGBA or even something else.\n",
    "\n",
    "When such an image is flattened, it produces a vector of size `8294400`. For an MLP, every hidden neuron connects with every other hidden neuron. Thus, our MLP would be structured like this:\n",
    "\n",
    "```\n",
    "input (output shape: 8294400) -> hidden (output shape: 128) -> hidden (output shape: 128) -> hidden (output shape: 128) -> output (output shape: 1)\n",
    "```\n",
    "That means, that for the first hidden layer, we require $128 \\cdot 8,294,400 = 1,061,683,200$ parameters. Every hidden layer consists of the weight matrix and a bias vector. The bias vector has the same size as the number of hidden neurons. With this information, we can calculate the number of parameters:\n",
    "\n",
    "1. layer: $128 \\cdot 8,294,400 = 1,061,683,200$ weights, $128$ bias terms, $1,061,683,200+128=1,061,683,328$ parameters\n",
    "2. layer: $128 \\cdot 128 = 16384$ weights, $128$ bias terms, $16384+128=16512$ parameters\n",
    "3. layer: $128 \\cdot 128 = 16384$ weights, $128$ bias terms, $16384+128=16512$ parameters\n",
    "4. layer: $128 \\cdot 1 = 128$ weights, $1$ bias term, $128+1=129$ parameters\n",
    "\n",
    "In sum, this network would have $1061716481$ parameters. As each trainable parameter in a pytorch model is typically a `float32` number. This would result in the model to be of size $1,061,716,481 \\cdot 4 \\text{Byte} = 4,246,865,924 \\text{Byte} \\approx 3.9 \\text{GiB} \\approx 4.2 \\text{GB}$. Such a model would already exceed some GPU's memory. So we better look for a way to have neural networks with a smaller number of parameters."
   ]
  },
  {
   "cell_type": "markdown",
   "id": "1dc669af",
   "metadata": {
    "cell_marker": "\"\"\""
   },
   "source": [
    "## A note on reproducibility\n",
    "\n",
    "In the following code, we will rely a lot on [pseudorandom number generators](https://en.wikipedia.org/wiki/Pseudorandom_number_generator). They will not be too obvious, but play an important role. We will rely on them for:\n",
    "\n",
    "- splitting the dataset\n",
    "- shuffling the data during loading\n",
    "- initializing the weights of our network\n",
    "\n",
    "For didactical purposes, we fix the pseudorandomness to certain seed values (i.e. we fix the beginning of the random sequence). This will avoid more confusion than necessary when comparing results."
   ]
  },
  {
   "cell_type": "code",
   "execution_count": null,
   "id": "a4bee69f",
   "metadata": {},
   "outputs": [],
   "source": [
    "import numpy as np\n",
    "import torch\n",
    "\n",
    "np.random.seed(13)\n",
    "torch.random.manual_seed(12)"
   ]
  },
  {
   "cell_type": "markdown",
   "id": "98e80d62",
   "metadata": {
    "cell_marker": "\"\"\""
   },
   "source": [
    "## Loading 1D Training Data\n",
    "\n",
    "To explore convolutions, we will start out considering a one dimensional sequence. The sequence will be taken from the [MNIST1D](https://github.com/greydanus/mnist1d) dataset. The advantage of this dataset is, that it is small and can serve well to demonstrate key concepts of machine learning.\n",
    "\n",
    "<div style=\"display: block;margin-left: auto;margin-right: auto;width: 75%;\"><img src=\"https://github.com/greydanus/mnist1d/raw/master/static/overview.png\" alt=\"MNIST1D overview\"></div>"
   ]
  },
  {
   "cell_type": "code",
   "execution_count": null,
   "id": "0016768e",
   "metadata": {},
   "outputs": [],
   "source": [
    "from mnist1d.data import get_dataset_args, make_dataset\n",
    "\n",
    "defaults = get_dataset_args()\n",
    "data = make_dataset(defaults)\n",
    "X, y = data['x'], data['y']\n",
    "\n",
    "X.shape, y.shape, type(X), X.dtype, y.dtype"
   ]
  },
  {
   "cell_type": "markdown",
   "id": "f4d7fc8b",
   "metadata": {},
   "source": [
    "As we are interested in supervised learning, we rely on pairs of input data `X` and labels `y`. Here, the labels `y` refer to the number which each sequence in `X` resembles. Let's have a look at these sequences."
   ]
  },
  {
   "cell_type": "code",
   "execution_count": null,
   "id": "6f8bc56f",
   "metadata": {},
   "outputs": [],
   "source": [
    "import matplotlib.pyplot as plt\n",
    "\n",
    "f, ax = plt.subplots(2, 5, figsize=(14, 5), sharex=True, sharey=True)\n",
    "\n",
    "for sample in range(10):\n",
    "    col = sample % 5\n",
    "    row = sample // 5\n",
    "    ax[row, col].plot(X[sample, ...])\n",
    "    label = y[sample]\n",
    "    ax[row, col].set_title(f\"label {label}\")\n",
    "    if row == 1:\n",
    "        ax[row, col].set_xlabel(f\"samples / a.u.\")\n",
    "    if col == 0:\n",
    "        ax[row, col].set_ylabel(f\"intensity / a.u.\")\n",
    "\n",
    "f.suptitle(\"MNIST1D examples\")\n",
    "f.savefig(\"mnist1d_default_first10.svg\")"
   ]
  },
  {
   "cell_type": "markdown",
   "id": "09460ae4",
   "metadata": {},
   "source": [
    "You can tell from the above, that the signals are far from easy to distinguish. This gives rise for the need for a flexible network architecture. But let's not get ahead of ourselves. Before we dive into designing a network, we will have to create a dataloader first. In `pytorch`, having a `DataLoader` for your data is the first hurdle you have to overcome to get started."
   ]
  },
  {
   "cell_type": "code",
   "execution_count": null,
   "id": "5733e74a",
   "metadata": {},
   "outputs": [],
   "source": [
    "from typing import Callable\n",
    "\n",
    "import numpy as np\n",
    "import torch\n",
    "from sklearn.model_selection import train_test_split\n",
    "\n",
    "\n",
    "class MNIST1D(torch.utils.data.Dataset):\n",
    "\n",
    "    def __init__(self,\n",
    "                 train:bool = True,\n",
    "                 validation_size: float = 0.1,\n",
    "                 mnist1d_args: dict = get_dataset_args(),\n",
    "                 seed: int = 42):\n",
    "\n",
    "        super().__init__()\n",
    "\n",
    "        self.is_training = train\n",
    "        self.data = make_dataset(mnist1d_args)\n",
    "\n",
    "        # dataset split\n",
    "        X_train, X_validation, y_train, y_validation = train_test_split(self.data['x'],\n",
    "                                                            self.data['y'],\n",
    "                                                            test_size=validation_size,\n",
    "                                                            random_state=seed)\n",
    "\n",
    "        # normalize the data only using information from the\n",
    "        # training data to avoid data leakage!\n",
    "        self.X_loc = np.min(X_train)\n",
    "        self.X_scale = np.max(X_train) - np.min(X_train)\n",
    "\n",
    "        # decide training and validationing\n",
    "        if train:\n",
    "            self.X = (X_train - self.X_loc)/self.X_scale\n",
    "            self.y = y_train\n",
    "        else:\n",
    "            # use the same normalisation strategy as during training\n",
    "            self.X = (X_validation - self.X_loc)/self.X_scale\n",
    "            self.y = y_validation\n",
    "\n",
    "    def __len__(self):\n",
    "        return self.X.shape[0]\n",
    "\n",
    "    def __getitem__(self, index: int):\n",
    "\n",
    "        # [index:index+1] used instead of [index] to create a channel dimension in the front.\n",
    "        # This is required by the convolutional layers we are going to use later on\n",
    "        X = torch.from_numpy(self.X[index:index+1, ...].astype(np.float32))\n",
    "        y = torch.from_numpy(self.y[index,...].astype(np.int64))\n",
    "\n",
    "        return X, y"
   ]
  },
  {
   "cell_type": "markdown",
   "id": "7acef0a3",
   "metadata": {},
   "source": [
    "In `pytorch`, the Dataset class has to comply to 3 requirements:\n",
    "- it has to inherit from torch.utils.data.Dataset\n",
    "- it has to define a `__len__` function so that we can later call `len(mydataset)`\n",
    "- it has to define a `__getitem__` function so that we can later call `mydataset[12]` to obtain sample 12\n",
    "For more details, see the `pytorch` documentation on [Creating a Custom Dataset for your files](https://pytorch.org/tutorials/beginner/basics/data_tutorial.html#creating-a-custom-dataset-for-your-files) or [Datasets & DataLoaders](https://pytorch.org/tutorials/beginner/basics/data_tutorial.html)."
   ]
  },
  {
   "cell_type": "code",
   "execution_count": null,
   "id": "c65fd8a3",
   "metadata": {},
   "outputs": [],
   "source": [
    "training_data = MNIST1D()\n",
    "validation_data = MNIST1D(train=False)\n",
    "\n",
    "nsamples = len(training_data)+len(validation_data)\n",
    "assert nsamples == 4000, f\"number of samples for MNIST1D is not 4000 but {nsamples}\"\n",
    "\n",
    "validationx, validationy = validation_data[12]\n",
    "assert validationx.shape[-1] == 40, f\"x shape should end with 40 but got:{validationx.shape}.\"\n",
    "assert validationy.item() == 5, f\"y should be 5 but got {validationy.item()}\"\n",
    "assert isinstance(validationx, torch.Tensor)\n",
    "assert isinstance(validationy, torch.LongTensor)"
   ]
  },
  {
   "cell_type": "markdown",
   "id": "e8a5a18b",
   "metadata": {},
   "source": [
    "In order to use the dataset for training, we need to create a DataLoader. A DataLoader orchestrates how the data is loaded and provided for the compute device that you intend to use. Note how we can set how many MNIST1D sequences at once will be provided to the compute device. This number, called the **batch size**, is set to `64` in the example below."
   ]
  },
  {
   "cell_type": "code",
   "execution_count": null,
   "id": "522b678d",
   "metadata": {},
   "outputs": [],
   "source": [
    "from torch.utils.data import DataLoader\n",
    "\n",
    "batch_size = 64\n",
    "\n",
    "train_dataloader = DataLoader(training_data, batch_size=batch_size, shuffle=True)\n",
    "validation_dataloader = DataLoader(validation_data, batch_size=batch_size, shuffle=False)\n",
    "\n",
    "train_X, train_y = next(iter(train_dataloader))\n",
    "print(\"Batch of training data and labels with shapes\",train_X.shape, train_y.shape)"
   ]
  },
  {
   "cell_type": "markdown",
   "id": "9a9764b9",
   "metadata": {},
   "source": [
    "## Convolutions in 1D\n",
    "\n",
    "Up until here, we have made great strides to load our dataset. We now want to explore what convolutions are and how to use them to construct a convolutional neural network (CNN).\n",
    "\n",
    "A convolution is a mathematical operation. Here, we only consider convolutions on a discrete signal $x \\in \\mathbb{R}^{n}$ using a convolution kernel $w \\in \\mathbb{R}^{m}$ where $m << n$ usually. For a fixed index $i$ of the output vector $y$, a convolution of the signal $x$ with the kernel $w$, denoted as $y = x \\ast w$ is defined by:\n",
    "$$ y_{i} = \\sum_{k=0}^{m-1} w_{k} \\cdot x_{i+k}. $$\n",
    "\n",
    "### Illustrated convolutions\n",
    "\n",
    "For the convolution, the kernel $w$ is moved across the input signal $x$.\n",
    "\n",
    "<div style=\"display: block;margin-left: auto;margin-right: auto;width: 75%;\"><img src=\"img/02_1D_convolution_1o3.svg\" alt=\"convolution 1/3\"></div>\n",
    "\n",
    "Usually, the length of the output signal is smaller than the size of the input signal when a convolution is applied. By padding the input signal with `0` values we can avoid this and ensure the output to be of the same size as the input. The above operation creates the first entry in the output $y$. Next, the kernel is moved one step further (the step size is called the `stride`).\n",
    "\n",
    "<div style=\"display: block;margin-left: auto;margin-right: auto;width: 75%;\"><img src=\"img/02_1D_convolution_2o3.svg\" alt=\"convolution 2/3\"></div>\n",
    "\n",
    "With the operation above, we have now created the second entry in $y$. This operation is now repeated until the entire input sequence has operated upon.\n",
    "\n",
    "<div style=\"display: block;margin-left: auto;margin-right: auto;width: 75%;\"><img src=\"img/02_1D_convolution_3o3.svg\" alt=\"convolution 3/3\"></div>\n",
    "\n",
    "Once the convolution has finished, we would expect something like the signal below:\n",
    "\n",
    "<div style=\"display: block;margin-left: auto;margin-right: auto;width: 75%;\"><img src=\"img/02_1D_convolution_done.svg\" alt=\"convolution done\"></div>\n",
    "\n",
    "Key parameters of the convolution operation are:\n",
    "- kernel size, i.e. the length of the kernel $w$\n",
    "- the padding strategy, i.e. whether to pad with 0s or mirror the content or something else\n",
    "- the padding width, i.e. how many entries to add to the signal left and right\n",
    "- the stride, i.e. by which step size to move the kernel along the signal\n",
    "\n",
    "There are more important parameters to define a convolution, but they are not relevant for our tutorial. For more details, see the definition of the [Conv1d](https://pytorch.org/docs/stable/generated/torch.nn.Conv1d.html#torch.nn.Conv1d) operation in `pytorch`.\n",
    "\n",
    "## A Convolutional Neural Network\n",
    "\n",
    "We will now construct a model in Pytorch. The setup has to comply to some rules. But let's dive in first."
   ]
  },
  {
   "cell_type": "code",
   "execution_count": null,
   "id": "d8edfed2",
   "metadata": {
    "lines_to_next_cell": 1
   },
   "outputs": [],
   "source": [
    "class MyCNN(torch.nn.Module):\n",
    "\n",
    "    def __init__(self, nlayers: int = 3, nchannels=16):\n",
    "\n",
    "        super().__init__()\n",
    "        self.layers = torch.nn.Sequential()\n",
    "\n",
    "        # convolve and shrink input width by 2x\n",
    "        self.layers.append(torch.nn.Conv1d(in_channels=1, out_channels=nchannels,\n",
    "                                           kernel_size=5, padding=2, stride=2))\n",
    "        self.layers.append(torch.nn.ReLU())\n",
    "\n",
    "        # convolve and shrink input width by 2x\n",
    "        self.layers.append(torch.nn.Conv1d(in_channels=nchannels, out_channels=nchannels,\n",
    "                                           kernel_size=5, padding=2, stride=2))\n",
    "        self.layers.append(torch.nn.ReLU())\n",
    "\n",
    "        # convolve and keep input width\n",
    "        self.layers.append(torch.nn.Conv1d(in_channels=nchannels, out_channels=nchannels,\n",
    "                                           kernel_size=3, padding=1))\n",
    "        self.layers.append(torch.nn.ReLU())\n",
    "\n",
    "        # flatten and add a linear tail (an MLP like in the first tutorial)\n",
    "        self.layers.append(torch.nn.Flatten())\n",
    "        self.layers.append(torch.nn.Linear(nchannels*10,10))\n",
    "\n",
    "        # NOTE: we do not apply the softmax activation here for reasons that will\n",
    "        # become clear just a bit later.\n",
    "        # self.layers.append(torch.nn.Softmax(dim=-1)) # to produce class probabilities\n",
    "\n",
    "        nparams = self.count_params()\n",
    "        print(f\"initialized CNN with {nparams} parameters\")\n",
    "\n",
    "    def forward(self, x):\n",
    "\n",
    "        return self.layers(x)\n",
    "\n",
    "    def count_params(self):\n",
    "\n",
    "        return sum([p.numel() for p in self.parameters() if p.requires_grad])"
   ]
  },
  {
   "cell_type": "markdown",
   "id": "df7793f7",
   "metadata": {},
   "source": [
    "Again, the model definition above has to comply to some rules:\n",
    "- the model has to inherit from `torch.nn.Module`\n",
    "- the model has to implement `__init__`\n",
    "- the model has to implement a `forward` function\n",
    "We can check that we have implemented the model \"correctly\", but just passing in some data. All weights are initialized randomly by default."
   ]
  },
  {
   "cell_type": "code",
   "execution_count": null,
   "id": "e5736a7e",
   "metadata": {},
   "outputs": [],
   "source": [
    "model = MyCNN(nchannels=32) # construct the model"
   ]
  },
  {
   "cell_type": "code",
   "execution_count": null,
   "id": "f1d6a892",
   "metadata": {},
   "outputs": [],
   "source": [
    "with torch.no_grad():\n",
    "    output = model(train_X) # perform a forward pass (note the __call__ method is automatically using the forward function)\n",
    "print(output.shape)"
   ]
  },
  {
   "cell_type": "markdown",
   "id": "bf204ab1",
   "metadata": {},
   "source": [
    "## **Exercise 02.2** How does my model look like?\n",
    "\n",
    "When designing a model, it can be very easy to loose track of what you are doing. In this exercise, we want to explore how to inspect models. `torch` only has one built-in way to display the structure of a model. Try the following code:\n",
    "\n",
    "`print(model)`\n",
    "\n",
    "Doing so can also serve as another first validation, if you have implemented the model with respect to python syntax correctly."
   ]
  },
  {
   "cell_type": "code",
   "execution_count": null,
   "id": "3857af13",
   "metadata": {
    "jupyter": {
     "source_hidden": true
    }
   },
   "outputs": [],
   "source": [
    "# Solution 02.2\n",
    "print(model)"
   ]
  },
  {
   "cell_type": "markdown",
   "id": "4be8d9d8",
   "metadata": {},
   "source": [
    "## **Exercise 02.3** More than just __repr__!\n",
    "\n",
    "Printing a model is nice and provides a first glance at the structure of your architecture. In practice however, there is one more thing that is crucial in designing a torch model. You will notice with time how essential it is to understand how data flows through a model! For this, `torch` does **NOT** have built-in methods.\n",
    "\n",
    "At the time of writing, there is a nice library called `torchinfo` available on [github](https://github.com/TylerYep/torchinfo) and [pypi](https://pypi.org/project/torchinfo/). Your task is to install this library and run the summary function with the `model` above."
   ]
  },
  {
   "cell_type": "markdown",
   "id": "09e33c84",
   "metadata": {
    "jupyter": {
     "source_hidden": true
    },
    "region_name": "md"
   },
   "source": [
    "Solution 02.3, install the library if not present already\n",
    "\n",
    "Run the following code in a cell to install the `torchinfo` package:\n",
    "``` bash\n",
    "python -m pip install torchinfo\n",
    "```"
   ]
  },
  {
   "cell_type": "code",
   "execution_count": null,
   "id": "e6b95591",
   "metadata": {
    "jupyter": {
     "source_hidden": true
    }
   },
   "outputs": [],
   "source": [
    "# Solution 02.3, second use the library\n",
    "from torchinfo import summary\n",
    "\n",
    "summary(model, input_size=train_X.shape)"
   ]
  },
  {
   "cell_type": "markdown",
   "id": "906c5bf5",
   "metadata": {},
   "source": [
    "## Classification with a CNN\n",
    "\n",
    "CNNs have become extremely popular to use for classification tasks. A classification tries to categorize or classify a given input signal to a fixed number of possible outcomes. In our case, these outcomes are the class labels of MNIST1D. For this reason, we can call our model a classifier now. We have to create an optimizer that takes care of updating the model parameters in a smart way exploiting the gradients of the loss function. We use `AdamW` with default options for the time being. Note, to construct the optimizer, we have to provide all parameters of our model in the constructor so it knows which parameters to adjust."
   ]
  },
  {
   "cell_type": "code",
   "execution_count": null,
   "id": "c60ba284",
   "metadata": {},
   "outputs": [],
   "source": [
    "optimizer = torch.optim.AdamW(model.parameters(), lr=1e-2)"
   ]
  },
  {
   "cell_type": "markdown",
   "id": "fef4cf78",
   "metadata": {},
   "source": [
    "As a next step, we have to consider the loss function. To do so, we will use the CrossEntropyLoss.\n",
    "\n",
    "According to the documentation, this loss functions expects predictions to be unnormalized \"logits\" and internally applies the softmax activation to obtain class probabilities in a numerically efficient way. This is the reason why our model did not include this activation in the forward step.\n"
   ]
  },
  {
   "cell_type": "code",
   "execution_count": null,
   "id": "0608ef02",
   "metadata": {},
   "outputs": [],
   "source": [
    "criterion = torch.nn.CrossEntropyLoss() # our loss function"
   ]
  },
  {
   "cell_type": "markdown",
   "id": "0953e41a",
   "metadata": {},
   "source": [
    "We are now ready to code up our training loop."
   ]
  },
  {
   "cell_type": "code",
   "execution_count": null,
   "id": "3c1fc685",
   "metadata": {},
   "outputs": [],
   "source": [
    "from sklearn.metrics import accuracy_score as accuracy\n",
    "\n",
    "max_epochs = 60\n",
    "log_every = 5\n",
    "results = {'train_losses':[], 'validation_losses': [],'train_acc': [], 'validation_acc':[]}\n",
    "\n",
    "# containers for results per epoch\n",
    "ntrainsteps = len(train_dataloader)\n",
    "train_acc, train_loss = torch.zeros((ntrainsteps,)), torch.zeros((ntrainsteps,))\n",
    "nvalidationsteps = len(validation_dataloader)\n",
    "validation_acc, validation_loss = torch.zeros((nvalidationsteps,)), torch.zeros((nvalidationsteps,))\n",
    "\n",
    "for epoch in range(max_epochs):\n",
    "    model.train()\n",
    "    # perform training for one epoch\n",
    "    for idx, (X, y) in enumerate(train_dataloader):\n",
    "\n",
    "        # forward pass\n",
    "        y_hat = model(X)\n",
    "\n",
    "        # compute loss\n",
    "        loss = criterion(y_hat, y)\n",
    "\n",
    "        # compute gradient\n",
    "        loss.backward()\n",
    "\n",
    "        # apply weight update rule\n",
    "        optimizer.step()\n",
    "\n",
    "        # set gradients to 0\n",
    "        optimizer.zero_grad()\n",
    "\n",
    "        # compute metrics for monitoring\n",
    "        # NOTE: as the model does not apply the softmax, we need to do it here\n",
    "        y_hat_class = y_hat.softmax(-1).argmax(-1)\n",
    "        acc = accuracy(y.cpu().numpy(),\n",
    "                       y_hat_class.cpu().numpy())\n",
    "\n",
    "        train_loss[idx] = loss.item()\n",
    "        train_acc[idx] = acc\n",
    "\n",
    "    model.eval()\n",
    "    with torch.no_grad():\n",
    "        for idx, (X_validation, y_validation) in enumerate(validation_dataloader):\n",
    "            y_hat_validation = model(X_validation)\n",
    "            loss_ = criterion(y_hat_validation, y_validation)\n",
    "\n",
    "            y_hat_validation_class = y_hat_validation.softmax(-1).argmax(-1)\n",
    "            acc = accuracy(y_validation.cpu().numpy(),\n",
    "                        y_hat_validation_class.cpu().numpy())\n",
    "            validation_loss[idx] = loss_.item()\n",
    "            validation_acc[idx] = acc\n",
    "\n",
    "    results['train_losses'].append(train_loss.mean())\n",
    "    results['train_acc'].append(train_acc.mean())\n",
    "    results['validation_losses'].append(validation_loss.mean())\n",
    "    results['validation_acc'].append(validation_acc.mean())\n",
    "\n",
    "    if epoch % log_every == 0 or (epoch+1) == max_epochs:\n",
    "        print(f\"{epoch+1}/{max_epochs} :: training loss {train_loss.mean()} accuracy {train_acc.mean()}; validation loss {validation_loss.mean()} accuracy {validation_acc.mean()}\")"
   ]
  },
  {
   "cell_type": "markdown",
   "id": "2a6fbf3f",
   "metadata": {
    "cell_marker": "\"\"\""
   },
   "source": [
    "You can tell from the above that pytorch is yet a very low level library. You have to code up the training for-loop yourself. This is in contrast to other libraries like [keras](https://keras.io), [pytorch-lightning](https://lightning.ai/docs/pytorch/stable/) or [scikit-learn](https://scikit-learn.org). These libraries provide you with complete \"Trainer\" or model-like objects which in turn offer a `.fit` method to start training. Decide on your own which suits your time budget, requirements and taste better."
   ]
  },
  {
   "cell_type": "markdown",
   "id": "9d33c0a1",
   "metadata": {
    "cell_marker": "\"\"\""
   },
   "source": [
    "## **Exercise 02.4** Learning Curves\n",
    "\n",
    "Use the `results` object to plot the loss curves of your model! This is often a helpful visualisation to judge if longer training will make sense or to discover overfitting."
   ]
  },
  {
   "cell_type": "code",
   "execution_count": null,
   "id": "287cf7c2",
   "metadata": {
    "jupyter": {
     "source_hidden": true
    }
   },
   "outputs": [],
   "source": [
    "# Solution 02.4\n",
    "f, ax = plt.subplots(1, 2, figsize=(10, 4), sharex=True)\n",
    "\n",
    "# losses\n",
    "ax[0].plot(results['train_losses'],color=\"b\",label=\"train\")\n",
    "ax[0].plot(results['validation_losses'],color=\"orange\",label=\"validation\")\n",
    "ax[0].set_xlabel(\"epoch\")\n",
    "ax[0].set_ylabel(\"CrossEntropy / a.u.\")\n",
    "ax[0].set_title(\"Loss\")\n",
    "\n",
    "# accuracy\n",
    "ax[1].plot(results['train_acc'],color=\"b\",label=\"train\")\n",
    "ax[1].plot(results['validation_acc'],color=\"orange\",label=\"validation\")\n",
    "ax[1].set_xlabel(\"epoch\")\n",
    "ax[1].set_ylabel(\"Accuracy / a.u.\")\n",
    "ax[1].set_ylim(0.,1.)\n",
    "ax[1].set_title(\"Prediction Quality\")\n",
    "ax[1].legend()\n",
    "\n",
    "f.suptitle(\"CNN Classification Learning Curves\")\n",
    "f.savefig(\"mnist1d_classification_learning_curve.svg\")"
   ]
  }
 ],
 "metadata": {
  "jupytext": {
   "formats": "ipynb,py:percent"
  },
  "kernelspec": {
   "display_name": "Python 3 (ipykernel)",
   "language": "python",
   "name": "python3"
  }
 },
 "nbformat": 4,
 "nbformat_minor": 5
}
