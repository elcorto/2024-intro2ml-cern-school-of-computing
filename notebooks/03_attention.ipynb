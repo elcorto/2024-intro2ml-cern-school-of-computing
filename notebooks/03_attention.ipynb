{
 "cells": [
  {
   "cell_type": "markdown",
   "id": "6333931f",
   "metadata": {
    "cell_marker": "\"\"\""
   },
   "source": [
    "# Exploring a reweighting task\n",
    "\n",
    "The following material is taken from the excellent lectures of Francois Fleuret (Univeristy of Geneva). Francois Fleuret introduces the self-attention mechanism and the transformer architecure in three parts:\n",
    "\n",
    "- [first stream](https://fleuret.org/dlc/streaming/dlc-video-13-1-attention-memory-translation.mp4),\n",
    "- [second stream](https://fleuret.org/dlc/streaming/dlc-video-13-2-attention-mechanisms.mp4) and\n",
    "- [third](https://fleuret.org/dlc/streaming/dlc-video-13-3-transformers.mp4)\n",
    "\n",
    "all of which are worthwhile watching. For more details, checkout the [website](https://fleuret.org/dlc/) of his lecture series.\n",
    "\n",
    "I have asked permission of Francois to reuse some this material which was published under the Public Domain."
   ]
  },
  {
   "cell_type": "markdown",
   "id": "1c8e4751",
   "metadata": {
    "cell_marker": "r\"\"\""
   },
   "source": [
    "## A regression task\n",
    "\n",
    "In the following, we again look at a regression task. The functions below produce a dataset which can be used to illustrate the use of the self-attention mechanism. The dataset exhibits two triangles and two boxes/rectangles on a 1D line. The dataset purely serves didactical purposes and only has loose connections to language processing.\n",
    "\n",
    "In this notebook, we focus on\n",
    "\n",
    "1. exploring the data set with a standard convnet.\n",
    "2. preparing a network using the attention mechanism\n",
    "3. compare the performance of the two"
   ]
  },
  {
   "cell_type": "code",
   "execution_count": null,
   "id": "40395617",
   "metadata": {
    "lines_to_next_cell": 2
   },
   "outputs": [],
   "source": [
    "import matplotlib.pyplot as plt\n",
    "import numpy as np\n",
    "\n",
    "from fleuret_data import generate_sequences, save_sequence_images\n",
    "\n",
    "drng = np.random.default_rng(43)  # set the RNG seed for reproducible runs"
   ]
  },
  {
   "cell_type": "code",
   "execution_count": null,
   "id": "58d5a879",
   "metadata": {},
   "outputs": [],
   "source": [
    "# create train and test set\n",
    "seq_length=64\n",
    "train_input, train_targets, train_tr, train_bx = generate_sequences(\n",
    "    12000, seq_length=seq_length, rng=drng\n",
    ")\n",
    "test_input, test_targets, test_tr, test_bx = generate_sequences(\n",
    "    1000, seq_length=seq_length, rng=drng\n",
    ")"
   ]
  },
  {
   "cell_type": "code",
   "execution_count": null,
   "id": "1b5bad3f",
   "metadata": {},
   "outputs": [],
   "source": [
    "test_input.shape, test_targets.shape, test_tr.shape, test_bx.shape"
   ]
  },
  {
   "cell_type": "code",
   "execution_count": null,
   "id": "fea9ebf0",
   "metadata": {},
   "outputs": [],
   "source": [
    "fig, ax = plt.subplots(1, 2, figsize=(12, 6), sharey=True)\n",
    "\n",
    "ax[0].plot(\n",
    "    np.arange(test_input[0].shape[-1]) + 0.5,\n",
    "    test_input[0].squeeze(),\n",
    "    color=\"blue\",\n",
    "    label=\"input\",\n",
    ")\n",
    "ax[0].set_title(\"input\")\n",
    "ax[1].plot(\n",
    "    np.arange(test_targets[0].shape[-1]) + 0.5,\n",
    "    test_targets[0].squeeze(),\n",
    "    color=\"green\",\n",
    "    label=\"target\",\n",
    ")\n",
    "ax[1].set_title(\"target\")\n",
    "fig.savefig(\"attention_dataset.svg\")"
   ]
  },
  {
   "cell_type": "markdown",
   "id": "27b3f62a",
   "metadata": {
    "cell_marker": "\"\"\""
   },
   "source": [
    "You see two kinds of \"objects\" in the plots above: two box-like structures and two triangle-like structure. We now define a **regression task** which is meant to equalize the height of the boxes. The new height of the output boxes should be the mean height of the two input boxes, The height of the output triangles should be the mean of the two input triangles)."
   ]
  },
  {
   "cell_type": "markdown",
   "id": "eb6ddc7c",
   "metadata": {
    "cell_marker": "r\"\"\""
   },
   "source": [
    "## Convolutional Network\n",
    "\n",
    "First, we need to normalize the data into a dynamic range as $\\vec{x} \\in [0,1]$. Then, we create a regression model using convolutions only, which tries to accomplish the task above.\n",
    "\n",
    "### Data Normalisation"
   ]
  },
  {
   "cell_type": "code",
   "execution_count": null,
   "id": "121796eb",
   "metadata": {},
   "outputs": [],
   "source": [
    "import torch\n",
    "# set the seeds to make the notebook reproducible\n",
    "np.random.seed(41)\n",
    "torch.random.manual_seed(43)"
   ]
  },
  {
   "cell_type": "code",
   "execution_count": null,
   "id": "d2b3940a",
   "metadata": {
    "lines_to_next_cell": 2
   },
   "outputs": [],
   "source": [
    "# normalize the signal, zscale normalisation commented out for experimentation\n",
    "x_min, x_max = train_input.min(), train_input.max()\n",
    "loc = x_min  # np.mean(train_input)\n",
    "scale = x_max - x_min  # np.std(train_input)\n",
    "x_ = (train_input - loc) / scale\n",
    "\n",
    "y_min, y_max = train_targets.min(), train_targets.max()\n",
    "y_ = (train_targets - loc) / scale\n",
    "\n",
    "x_test_ = (test_input - loc) / scale\n",
    "y_test_ = (test_targets - loc) / scale"
   ]
  },
  {
   "cell_type": "code",
   "execution_count": null,
   "id": "60a83ace",
   "metadata": {},
   "outputs": [],
   "source": [
    "print(f\"data shape check: {x_.shape, y_.shape, x_test_.shape, y_test_.shape}\")"
   ]
  },
  {
   "cell_type": "markdown",
   "id": "964a823b",
   "metadata": {
    "cell_marker": "\"\"\"",
    "lines_to_next_cell": 1
   },
   "source": [
    "### A fully convolutional model\n",
    "\n",
    "The term fully convolutional describes an architecture which consists exclusively of convolutional operations. This has the benefit as the model design is independent of the input data shape.\n",
    "\n",
    "** Exercise 03.1 **\n",
    "\n",
    "The code for the fully convolutional model is almost ready, but some minor mistakes and blanks have been introduced. Check if you can fix these errors so that a model of the following form would be printed without errors.\n",
    "\n",
    "```\n",
    "> print(RegressionFCN((1,seq_length), num_channels=64))\n",
    "RegressionFCN(\n",
    "  (layers): Sequential(\n",
    "    (0): Conv1d(1, 64, kernel_size=(5,), stride=(1,), padding=(2,))\n",
    "    (1): ReLU()\n",
    "    (2): Conv1d(64, 64, kernel_size=(5,), stride=(1,), padding=(2,))\n",
    "    (3): ReLU()\n",
    "    (4): Conv1d(64, 64, kernel_size=(5,), stride=(1,), padding=(2,))\n",
    "    (5): ReLU()\n",
    "    (6): Conv1d(64, 64, kernel_size=(5,), stride=(1,), padding=(2,))\n",
    "    (7): ReLU()\n",
    "    (8): Conv1d(64, 1, kernel_size=(1,), stride=(1,))\n",
    "  )\n",
    ")\n",
    "```"
   ]
  },
  {
   "cell_type": "code",
   "execution_count": null,
   "id": "28cb8299",
   "metadata": {},
   "outputs": [],
   "source": [
    "class RegressionFCN(torch.nn.ModuleList):\n",
    "\n",
    "    def __init__(self, inshape, num_channels=64, ksize=5, num_layers=4):\n",
    "        ...\n",
    "\n",
    "        self.layers = torch.nn.Sequential()\n",
    "        num_inchannels = inshape[0]\n",
    "        padding = ...\n",
    "        for _ in range(8):\n",
    "            self.layers.append(\n",
    "                torch.nn.Conv1d(num_inchannels,\n",
    "                                num_channels,\n",
    "                                ksize,\n",
    "                                stride=...,\n",
    "                                padding=padding )\n",
    "            )\n",
    "            self.layers.append(\n",
    "                ...\n",
    "            )\n",
    "            num_inchannels = num_channels\n",
    "        self.layers.append(torch.nn.Conv1d(num_channels, inshape[0], 1))\n",
    "\n",
    "    def forward(self, x):\n",
    "\n",
    "        return self.layers(x)"
   ]
  },
  {
   "cell_type": "code",
   "execution_count": null,
   "id": "b77d27bf",
   "metadata": {
    "jupyter": {
     "source_hidden": true
    }
   },
   "outputs": [],
   "source": [
    "# Solution for Exercise 03.1\n",
    "class RegressionFCN(torch.nn.Module):\n",
    "\n",
    "    def __init__(self, inshape, num_channels=64, ksize=5, num_layers=4):\n",
    "        super().__init__()\n",
    "\n",
    "        self.layers = torch.nn.Sequential()\n",
    "        num_inchannels = inshape[0]\n",
    "        padding = ksize // 2\n",
    "        for _ in range(num_layers):\n",
    "            self.layers.append(\n",
    "                torch.nn.Conv1d(num_inchannels, num_channels, ksize,stride=1,padding=padding )\n",
    "            )\n",
    "            self.layers.append(\n",
    "                torch.nn.ReLU()\n",
    "            )\n",
    "            num_inchannels = num_channels\n",
    "        self.layers.append(torch.nn.Conv1d(num_channels, inshape[0], 1))\n",
    "\n",
    "    def forward(self, x):\n",
    "\n",
    "        return self.layers(x)"
   ]
  },
  {
   "cell_type": "code",
   "execution_count": null,
   "id": "5e3c4d16",
   "metadata": {
    "lines_to_next_cell": 1
   },
   "outputs": [],
   "source": [
    "# prepare the dataset and loaders\n",
    "\n",
    "train_ds = torch.utils.data.StackDataset(x_, y_)\n",
    "test_ds = torch.utils.data.StackDataset(x_test_, y_test_)\n",
    "\n",
    "train_loader = torch.utils.data.DataLoader(train_ds, shuffle=True, batch_size=256)\n",
    "test_loader = torch.utils.data.DataLoader(test_ds, shuffle=False, batch_size=256)\n",
    "\n",
    "def nparams(model):\n",
    "    \"\"\" compute the number of parameters of this <model> \"\"\"\n",
    "    return sum(p.numel() for p in model.parameters())"
   ]
  },
  {
   "cell_type": "code",
   "execution_count": null,
   "id": "5d8e41f7",
   "metadata": {
    "lines_to_next_cell": 1
   },
   "outputs": [],
   "source": [
    "# we test our model\n",
    "\n",
    "plainfcn = RegressionFCN(x_.shape[-2:], num_channels=64)\n",
    "print(plainfcn)\n",
    "first_x, first_y = next(iter(train_loader))\n",
    "output = plainfcn(first_x)\n",
    "assert output.shape == first_y.shape\n",
    "print(f\"set up plain fcn with {nparams(plainfcn)} parameters\")"
   ]
  },
  {
   "cell_type": "code",
   "execution_count": null,
   "id": "d8a9309d",
   "metadata": {},
   "outputs": [],
   "source": [
    "# perform training\n",
    "def train_regression(model, opt, crit, train_dataloader, test_dataloader, max_epochs, log_every=5):\n",
    "\n",
    "    results = {\"train_losses\": [], \"test_losses\": []}\n",
    "    ntrainsteps = len(train_dataloader)\n",
    "    nteststeps = len(test_dataloader)\n",
    "    train_loss, test_loss = torch.zeros((ntrainsteps,)), torch.zeros((nteststeps,))\n",
    "\n",
    "    for epoch in range(max_epochs):\n",
    "        model.train()\n",
    "        # perform training for one epoch\n",
    "        for idx, (X, y) in enumerate(train_dataloader):\n",
    "            # forward pass\n",
    "            y_hat = model(X)\n",
    "\n",
    "            # compute loss\n",
    "            loss = crit(y_hat, y)\n",
    "\n",
    "            # compute gradient\n",
    "            loss.backward()\n",
    "\n",
    "            # apply weight update rule\n",
    "            opt.step()\n",
    "\n",
    "            # set gradients to 0\n",
    "            opt.zero_grad()\n",
    "\n",
    "            train_loss[idx] = loss.item()\n",
    "\n",
    "\n",
    "        model.eval()\n",
    "\n",
    "        with torch.no_grad():\n",
    "            for idx, (X_test, y_test) in enumerate(test_dataloader):\n",
    "                X_prime_test = model(X_test)\n",
    "                loss_ = crit(X_prime_test, X_test)\n",
    "                test_loss[idx] = loss_.item()\n",
    "\n",
    "            results[\"train_losses\"].append(train_loss.mean())\n",
    "            results[\"test_losses\"].append(test_loss.mean())\n",
    "\n",
    "            if epoch % log_every == 0 or (epoch + 1) == max_epochs:\n",
    "                print(\n",
    "                    f\"{epoch+1:02.0f}/{max_epochs} :: training loss {train_loss.mean():03.4f}; test loss {test_loss.mean():03.4f}\"\n",
    "                )\n",
    "    return results"
   ]
  },
  {
   "cell_type": "code",
   "execution_count": null,
   "id": "c823c527",
   "metadata": {
    "lines_to_next_cell": 1
   },
   "outputs": [],
   "source": [
    "optim = torch.optim.AdamW(plainfcn.parameters(), lr=1e-3)\n",
    "crit  = torch.nn.MSELoss()\n",
    "max_epochs = 15\n",
    "fcnresults = train_regression(plainfcn, optim, crit, train_loader, test_loader, max_epochs,2)"
   ]
  },
  {
   "cell_type": "code",
   "execution_count": null,
   "id": "fbd42745",
   "metadata": {
    "lines_to_next_cell": 1
   },
   "outputs": [],
   "source": [
    "# let's make our lives a bit easier\n",
    "def plot_history(history, metrics=[\"train_losses\", \"test_losses\"], metric_label=\"metric\", draw_legend=True):\n",
    "    \"\"\"\n",
    "    Plot the training history\n",
    "\n",
    "    Args:\n",
    "        history (keras History object that is returned by model.fit())\n",
    "        metrics(str, list): Metric or a list of metrics to plot\n",
    "    \"\"\"\n",
    "\n",
    "    f, ax = plt.subplots(1,1)\n",
    "    for k in history.keys():\n",
    "        ax.plot(history[k], label=k)\n",
    "    ax.set_xlabel(\"epochs\")\n",
    "    ax.set_ylabel(metric_label)\n",
    "    if draw_legend:\n",
    "        ax.legend()\n",
    "\n",
    "    return f, ax"
   ]
  },
  {
   "cell_type": "code",
   "execution_count": null,
   "id": "7fe0b93b",
   "metadata": {},
   "outputs": [],
   "source": [
    "f,ax = plot_history(fcnresults)\n",
    "f.savefig(\"attention_fcnmodel_losses.svg\")\n",
    "\n",
    "\n",
    "# # %%\n",
    "# let's visualise some example predictions\n",
    "xaxis = np.arange(0, x_test_.shape[-1], 1)\n",
    "first5_x_test, first5_y_test = next(iter(test_loader))\n",
    "pred5 = plainfcn(first5_x_test[:5,...]) # predict only first 5 samples\n",
    "\n",
    "f, ax = plt.subplots(1,5, figsize=(10,2), sharex=True, sharey=True)\n",
    "\n",
    "for col in range(5):\n",
    "    labl = first5_y_test[col:col+1].detach().squeeze().numpy()\n",
    "    pred = pred5[col:col+1].detach().squeeze().numpy()\n",
    "    ax[col].plot(labl, color=\"green\", label=\"label\")\n",
    "    ax[col].plot(pred, color=\"red\", label=\"prediction\")\n",
    "    ax[col].set_title(f\"test set item {col}\")\n",
    "    ax[col].set_ylabel(\"intensity / a.u.\")\n",
    "    ax[col].set_xlabel(\"sample / a.u.\")\n",
    "    if col == 4:\n",
    "        ax[col].legend()\n",
    "\n",
    "f.savefig(\"attention_plainfcn_pred5.svg\")"
   ]
  },
  {
   "cell_type": "markdown",
   "id": "aedf3485",
   "metadata": {
    "cell_marker": "r\"\"\""
   },
   "source": [
    "The above is not a great model, actually it doesn't really well! But we expected no less as the test loss didn't decrease any further than `0.0085` while the training loss decreased further and further."
   ]
  },
  {
   "cell_type": "markdown",
   "id": "8d086ef8",
   "metadata": {
    "cell_marker": "\"\"\""
   },
   "source": [
    "# Attention is all you need\n",
    "\n",
    "Attention and self-attention are very powerful transformations. In this section, we will write our own Attention layer.\n",
    "\n",
    "The idea of attention was published in 2014 by A. Graves in \"Neural Turing Machines\", see [here](https://arxiv.org/abs/1410.5401)\n",
    "It was picked up again in 2017 by A. Vaswani et al in \"Attention is all you need\", see [here](https://arxiv.org/abs/1706.03762). This paper coined the term Transformer architecture which relies strongly on self-attention layers. This architecture proved very successful in the language processing domain. Today, all large language models rely on the attention mechanism.\n",
    "\n",
    "A nice visualizer to help you grasp the idea of attention can be found [here](https://poloclub.github.io/transformer-explainer/).\n",
    "\n",
    "Even though, we will not do any language processing here, the dataset and task at hand is enough to demonstrate the effectiveness, by which attention can capture long-range dependencies in the data."
   ]
  },
  {
   "cell_type": "markdown",
   "id": "b02f6b11",
   "metadata": {
    "cell_marker": "r\"\"\"",
    "lines_to_next_cell": 2
   },
   "source": [
    "## Attention\n",
    "\n",
    "The attention mechanism relies on three ingredients. But in our example task, we only have the incoming feature maps from a convolution. So we will model a triple bifurcation of the incoming data.\n",
    "\n",
    "We first create queries, keys and value tensors, but applying a convolution on our input `x`. In practice, this is often done with linear layers, but for the sake of argument and processing speed (on weaker hardware) we pick convolutions.\n",
    "\n",
    "$$ \\mathbf{Q} = conv(\\vec{x}), \\mathbf{K} = conv(\\vec{x}), \\mathbf{V} = conv(\\vec{x}) $$\n",
    "\n",
    "We want to construct the convolutions in such a fashion, that $\\mathbf{Q}\\in\\mathbb{R}^{TxD}$ where $T$ is an arbitrary dimension we can set and $D$ is the length of our sequence.\n",
    "\n",
    "We further want $\\mathbf{K}\\in\\mathbb{R}^{T'xD}$ where $T'$ is an arbitrary dimension we can set and $D$ is again the length of our sequence.\n",
    "\n",
    "Last, we also want $\\mathbf{V}\\in\\mathbb{R}^{T'xD'}$ where $T'$ is the same value as for $\\mathbf{K}$ and $D'$ is for the sake of the example equal to $D$.\n",
    "\n",
    "Here is a sketch of what we are trying to achieve:\n",
    "\n",
    "<div style=\"display: block;margin-left: auto;margin-right: auto;width: 50%;\"><img src=\"img/attention_sketch_qkv_cropped.png\" alt=\"Establishing Q, K ,V\"></div>"
   ]
  },
  {
   "cell_type": "markdown",
   "id": "143b9dc9",
   "metadata": {
    "cell_marker": "r\"\"\""
   },
   "source": [
    "** Exercise 03.2 **\n",
    "\n",
    "Write a `torch.nn.Module` which fulfills the requirements above. The model should establish three convolutions in its constructor. Also, the `forward` function should contain the execution of these 3 convolutions to create $\\mathbf{Q}, \\mathbf{K}, \\mathbf{V}$.\n",
    "\n",
    "Feel free to start from this template below:\n",
    "``` python\n",
    "\n",
    "class SelfAttention(torch.nn.Module):\n",
    "    def __init__(\n",
    "        self,\n",
    "        in_channels: int,\n",
    "        query_channels: int,\n",
    "        key_channels: int,\n",
    "        out_dimension: int = 0,\n",
    "    ):\n",
    "        '''\n",
    "\n",
    "        constructor to set up self-attention module\n",
    "\n",
    "        Parameters\n",
    "        ----------\n",
    "        in_channels :\n",
    "            depend on the data\n",
    "        query_channels :\n",
    "            equivalent to T\n",
    "        key_channels :\n",
    "            equivalent to T_prime\n",
    "        out_dimension :\n",
    "            equivalent to D_prime, not needed here\n",
    "        '''\n",
    "        super().__init__()\n",
    "\n",
    "        # we want to establish queries Q, keys K and values V\n",
    "        # instead of using Linear layers, we opt for Conv1D as they use less\n",
    "        # parameters and hence are less memory intensive\n",
    "        ...\n",
    "\n",
    "    def forward(self, x):\n",
    "        ...\n",
    "\n",
    "```"
   ]
  },
  {
   "cell_type": "markdown",
   "id": "e7992153",
   "metadata": {
    "cell_marker": "r\"\"\""
   },
   "source": [
    "The actual attention mechanism is two lines of math, but it may take a while to digest it. We start from considering the fact, that we have three matrices now: $\\mathbf{Q},\\mathbf{K},\\mathbf{V}$.\n",
    "\n",
    "We first need to calculate the attention matrix, sometimes also called the attention map. The attention map in our case computes a paired dot-product between all rows in $\\mathbf{Q}$ and all rows in $\\mathbf{K}$ (i.e. all columns in $K^{T}$. In other words, we compute all n-to-n distances of vectors in either matrix. Note, the normalisation by $\\sqrt{D}$ is injected for numerical stability according to the authors.\n",
    "\n",
    "$$ \\mathbf{A}' = \\frac{Q K^{T}}{\\sqrt{D}} $$\n",
    "\n",
    "To make these meaningful, the attention map is completed by a row-wise application of the softmax function:\n",
    "\n",
    "$$ \\mathbf{A} = softmax_{row}(\\mathbf{A}') = softmax_{row}(\\frac{QK^{T}}{\\sqrt{D}}) $$\n",
    "\n",
    "To illustrate the above, here is a sketch of what is going on:\n",
    "\n",
    "<div style=\"display: block;margin-left: auto;margin-right: auto;width: 40%;\"><img src=\"img/attention_sketch_details_smaller.png\" alt=\"Computing the Attention Map A\"></div>"
   ]
  },
  {
   "cell_type": "markdown",
   "id": "a3fcd6b0",
   "metadata": {
    "cell_marker": "r\"\"\""
   },
   "source": [
    "To finish up, we obtain the output of attention by weighting the attention map with $\\mathbf{V}$.\n",
    "\n",
    "$$ \\mathbf{Y} = \\mathbf{A}\\mathbf{V} $$\n",
    "\n",
    "The matrix $\\mathbf{Y}$ is the output of our Attention layer.\n",
    "\n",
    "Note, the operation described above is called *self-attention* because we obtained $\\mathbf{V}$ from the same input as $\\mathbf{Q}$ and $\\mathbf{K}$. This stands in contrast to *cross-attention* where $\\mathbf{V}$ is constructed from a different output than $\\mathbf{Q}$ and $\\mathbf{K}$. Here is an illustration to show, what is going on:\n",
    "\n",
    "<div style=\"display: block;margin-left: auto;margin-right: auto;width: 40%;\"><img src=\"img/attention_sketch_schemes_cropped.png\" alt=\"Self- and Cross-Attention\"></div>"
   ]
  },
  {
   "cell_type": "markdown",
   "id": "08342813",
   "metadata": {
    "cell_marker": "r\"\"\"",
    "lines_to_next_cell": 1
   },
   "source": [
    "** Exercise 03.3 **\n",
    "\n",
    "Given the formulae above, reuse the SelfAttention class that you already started and complete it! Use the following template as a guide:"
   ]
  },
  {
   "cell_type": "code",
   "execution_count": null,
   "id": "cf1902c9",
   "metadata": {},
   "outputs": [],
   "source": [
    "class SelfAttention(torch.nn.Module):\n",
    "    def __init__(\n",
    "        self,\n",
    "        in_channels: int,\n",
    "        query_channels: int,\n",
    "        key_channels: int,\n",
    "        out_dimension: int = 0,\n",
    "    ):\n",
    "        \"\"\"\n",
    "\n",
    "        constructor to set up self-attention module\n",
    "\n",
    "        Parameters\n",
    "        ----------\n",
    "        in_channels :\n",
    "            depend on the data\n",
    "        query_channels :\n",
    "            equivalent to T\n",
    "        key_channels :\n",
    "            equivalent to T_prime\n",
    "        out_dimension :\n",
    "            equivalent to D_prime, not needed here\n",
    "        \"\"\"\n",
    "        super().__init__()\n",
    "\n",
    "        # we want to establish queries Q, keys K and values V\n",
    "        # instead of using Linear layers, we opt for Conv1D as they use less\n",
    "        # parameters and hence are less memory intensive\n",
    "        self.conv_Q = torch.nn.Conv1d(\n",
    "            in_channels, query_channels, kernel_size=1, bias=False\n",
    "        )\n",
    "        self.conv_K = torch.nn.Conv1d(\n",
    "            in_channels, key_channels, kernel_size=1, bias=False\n",
    "        )\n",
    "        self.conv_V = torch.nn.Conv1d(\n",
    "            in_channels, key_channels, kernel_size=1, bias=False\n",
    "        )\n",
    "\n",
    "    def forward(self, x):\n",
    "        # we receive a NxCxD tensor x\n",
    "\n",
    "        # run the convolutions on our inputs\n",
    "        Q = self.conv_Q(x)  # produces a NxTxD tensor\n",
    "        K = self.conv_K(x)  # produces a NxT_primexD tensor\n",
    "        V = self.conv_V(x)  # produces a NxT_primexD tensor as D_prime = D\n",
    "\n",
    "        K_t = ...  # transpose K to give a NxDxT_prime matrix\n",
    "        A_ = ...  # perform a matrix multiply Q*K_t, results in a NxTxT_prime matrix\n",
    "        A = ...  # perform a row-wise softmax, results in a NxTxT_prime matrix\n",
    "\n",
    "        y = ...  # perform a matrix multiply A*Y, results in TxT_prime * T_primexD = TxD matrix\n",
    "\n",
    "        return y"
   ]
  },
  {
   "cell_type": "code",
   "execution_count": null,
   "id": "c7f2cd83",
   "metadata": {
    "jupyter": {
     "source_hidden": true
    }
   },
   "outputs": [],
   "source": [
    "# *Solution 03.3*\n",
    "class SelfAttention(torch.nn.Module):\n",
    "    def __init__(\n",
    "        self,\n",
    "        in_channels: int,\n",
    "        query_channels: int,\n",
    "        key_channels: int,\n",
    "        out_dimension: int = 0,\n",
    "    ):\n",
    "        \"\"\"\n",
    "\n",
    "        constructor to set up self-attention module\n",
    "\n",
    "        Parameters\n",
    "        ----------\n",
    "        in_channels :\n",
    "            depend on the data\n",
    "        query_channels :\n",
    "            equivalent to T\n",
    "        key_channels :\n",
    "            equivalent to T_prime\n",
    "        out_dimension :\n",
    "            equivalent to D_prime, not needed here\n",
    "        \"\"\"\n",
    "        super().__init__()\n",
    "\n",
    "        # we want to establish queries Q, keys K and values V\n",
    "        # instead of using Linear layers, we opt for Conv1D as they use less\n",
    "        # parameters and hence are less memory intensive\n",
    "        self.conv_Q = torch.nn.Conv1d(\n",
    "            in_channels, query_channels, kernel_size=1, bias=False\n",
    "        )\n",
    "        self.conv_K = torch.nn.Conv1d(\n",
    "            in_channels, key_channels, kernel_size=1, bias=False\n",
    "        )\n",
    "        self.conv_V = torch.nn.Conv1d(\n",
    "            in_channels, key_channels, kernel_size=1, bias=False\n",
    "        )\n",
    "\n",
    "    def forward(self, x):\n",
    "        # we receive a NxCxD tensor x\n",
    "\n",
    "        # run the convolutions on our inputs\n",
    "        Q = self.conv_Q(x)  # produces a NxTxD tensor\n",
    "        K = self.conv_K(x)  # produces a NxT_primexD tensor\n",
    "        V = self.conv_V(x)  # produces a NxT_primexD tensor as D_prime = D\n",
    "\n",
    "        K_t = torch.transpose(K, -1, -2)  # convert to NxDxT_prime\n",
    "        A_ = torch.matmul(Q, K_t)  # results in NxTxT_prime\n",
    "        A = torch.nn.functional.softmax(A_, dim=2)  # results in NxTxT_prime\n",
    "\n",
    "        y = torch.matmul(A, V)  # results in TxT_prime * T_primexD = TxD\n",
    "\n",
    "        return y\n",
    "\n"
   ]
  },
  {
   "cell_type": "code",
   "execution_count": null,
   "id": "def5651b",
   "metadata": {},
   "outputs": [],
   "source": [
    "# now we want to include that into a model\n",
    "class CustomAttn(torch.nn.Module):\n",
    "\n",
    "    def __init__(self, inshape=x_test_.shape[-2:], num_channels=64, ksize=5):\n",
    "\n",
    "        super().__init__()\n",
    "\n",
    "        self.layers = torch.nn.Sequential()\n",
    "        num_inchannels = inshape[0]\n",
    "        self.num_channels = num_channels\n",
    "        padding = ksize // 2\n",
    "        self.layers.append(\n",
    "                torch.nn.Conv1d(num_inchannels, num_channels, ksize,stride=1,padding=padding )\n",
    "            )\n",
    "        self.layers.append(\n",
    "                torch.nn.ReLU()\n",
    "        )\n",
    "        self.layers.append(\n",
    "                torch.nn.Conv1d(num_channels, num_channels, ksize,stride=1,padding=padding )\n",
    "            )\n",
    "        self.layers.append(\n",
    "                torch.nn.ReLU()\n",
    "        )\n",
    "        self.layers.append(\n",
    "                SelfAttention(num_channels,num_channels,num_channels)\n",
    "        )\n",
    "        self.layers.append(\n",
    "            torch.nn.Conv1d(num_channels, num_channels, ksize,stride=1,padding=padding )\n",
    "        )\n",
    "        self.layers.append(\n",
    "            torch.nn.Conv1d(num_channels, num_inchannels, 1,stride=1,padding=0 )\n",
    "        )\n",
    "\n",
    "    def forward(self, x):\n",
    "\n",
    "        return self.layers(x)\n",
    "\n",
    "# test our model\n",
    "attmodel = CustomAttn(x_test_.shape[1:], num_channels=64)\n",
    "output = attmodel(first_x)\n",
    "assert output.shape == first_y.shape\n",
    "print(attmodel)\n",
    "print(f\"set up custom attention model with {nparams(attmodel)} parameters\")"
   ]
  },
  {
   "cell_type": "code",
   "execution_count": null,
   "id": "1b17ab1a",
   "metadata": {},
   "outputs": [],
   "source": [
    "# train the model\n",
    "attoptim = torch.optim.AdamW(attmodel.parameters(), lr=1e-3)\n",
    "attcrit  = torch.nn.MSELoss()\n",
    "max_epochs = 15\n",
    "attresults = train_regression(attmodel, attoptim, attcrit, train_loader, test_loader, max_epochs,2)"
   ]
  },
  {
   "cell_type": "code",
   "execution_count": null,
   "id": "b608bc67",
   "metadata": {},
   "outputs": [],
   "source": [
    "f,ax = plot_history(attresults)\n",
    "f.savefig(\"attention_attmodel_losses.svg\")"
   ]
  },
  {
   "cell_type": "markdown",
   "id": "1659163a",
   "metadata": {
    "cell_marker": "\"\"\""
   },
   "source": [
    "## Have a look at the results\n",
    "\n",
    "In the loss curve above, you see that the attention based model draws much quicker to `0` in the training set than what the FCN above could do. This trend will increase, the longer you train. The interesting observation here is that both models have the same amount of parameters. Hence, the attention mechanism must bring more flexibility along to model the data.\n",
    "\n",
    "Next, we want to visualize some output sequences and check if the model has truly grasped long range dependencies."
   ]
  },
  {
   "cell_type": "code",
   "execution_count": null,
   "id": "6e007299",
   "metadata": {},
   "outputs": [],
   "source": [
    "# obtain predictions\n",
    "\n",
    "test_input, test_targets = torch.from_numpy(x_test_[:32,...]), torch.from_numpy(y_test_[:32,...])\n",
    "test_outputs = attmodel(test_input)\n",
    "ctest_outputs = plainfcn(test_input)\n",
    "\n",
    "# required for easier plotting\n",
    "test_input = test_input.detach().cpu()\n",
    "test_outputs = test_outputs.detach().cpu()\n",
    "ctest_outputs = ctest_outputs.detach().cpu()\n",
    "test_targets = test_targets.detach().cpu()\n",
    "\n",
    "# for the correct plot fo attention, we need to adapt to scaling issues\n",
    "size_scale = attmodel.num_channels / seq_length\n",
    "\n",
    "# plot outputs\n",
    "for k in range(15):\n",
    "    save_sequence_images(\n",
    "        f\"attention_attmodel_test_Y_{k:03.0f}.svg\",\n",
    "        [\n",
    "            (test_input[k, 0], \"blue\", \"Input\"),\n",
    "            (test_outputs[k, 0], \"orange\", \"Output\"),\n",
    "        ],\n",
    "        seq_length=seq_length,\n",
    "        seq_height_max=1.\n",
    "    )\n",
    "\n",
    "    save_sequence_images(\n",
    "        f\"attention_fcnmodel_test_Y_{k:03.0f}.svg\",\n",
    "        [\n",
    "            (test_input[k, 0], \"blue\", \"Input\"),\n",
    "            (ctest_outputs[k, 0], \"orange\", \"Output\"),\n",
    "        ],\n",
    "        seq_length=seq_length,\n",
    "        seq_height_max=1.\n",
    "    )"
   ]
  },
  {
   "cell_type": "markdown",
   "id": "6aa80614",
   "metadata": {
    "cell_marker": "r\"\"\""
   },
   "source": [
    "# Wrap-Up\n",
    "\n",
    "<div style=\"display: block;margin-left: auto;margin-right: auto;width: 30%;\"><img src=\"https://ar5iv.labs.arxiv.org/html/1706.03762/assets/Figures/ModalNet-21.png\" alt=\"Transformer Architecture\"></div>\n",
    "\n",
    "The image above illustrates schematically how a transformer model was setup originally. Find the three instances of Multi-Head Attention. This is where attention is used. Note also, that we see two times self-attention (bottom) and one cross-attention where is $\\mathbf{Q}$ and $\\mathbf{K}$ is produced from an input and $\\mathbf{Y}$ from another (top)."
   ]
  }
 ],
 "metadata": {
  "jupytext": {
   "formats": "ipynb,py:percent"
  },
  "kernelspec": {
   "argv": [
    "python",
    "-m",
    "ipykernel_launcher",
    "-f",
    "{connection_file}"
   ],
   "display_name": "Python 3 (ipykernel)",
   "env": null,
   "interrupt_mode": "signal",
   "language": "python",
   "metadata": {
    "debugger": true
   },
   "name": "python3"
  }
 },
 "nbformat": 4,
 "nbformat_minor": 5
}
