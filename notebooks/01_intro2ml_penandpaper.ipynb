{
 "cells": [
  {
   "cell_type": "markdown",
   "id": "01fab490",
   "metadata": {
    "cell_marker": "\"\"\""
   },
   "source": [
    "# A multi-layer perceptron with pen and paper\n",
    "\n",
    "Multi-layer Perceptrons (MLP) were some of the first Machine Learning (ML) architectures in use.\n",
    "\n",
    "This notebook will guide you through how to\n",
    "- perform a forward pass through a very simple MLP\n",
    "- how to backpropagate through the network\n",
    "- how to perform the same operations with [pytorch](https://pytorch.org)"
   ]
  },
  {
   "cell_type": "markdown",
   "id": "023fa24c",
   "metadata": {
    "cell_marker": "r\"\"\""
   },
   "source": [
    "## A Feed Forward MLP\n",
    "\n",
    "Let's recap the essential ingredients of a feedforward neural network:\n",
    "\n",
    "<div style=\"display: block;margin-left: auto;margin-right: auto;width: 75%;\"><img src=\"img/01_plain_mlp.svg\" alt=\"plain MLP\"></div>\n",
    "\n",
    "In the above, the network receives an input vector $x = \\left(x_{0}, x_{1}, x_{2}\\right)^{T}$. This is used as input to the first hidden unit, which produces the hidden vector $ h = \\left(h_{0}, h_{1}, h_{2}\\right)^{T} = \\sigma (W \\cdot x + \\beta)$. The hidden unit consists of 3 ingredients:\n",
    "- a weight matrix $W$\n",
    "- a bias vector $\\beta$\n",
    "- an activation function $\\sigma$ (applied elementwise on the resulting vector)\n",
    "\n",
    "The output of the hidden unit will be considered to be the input of the last layer. This in turn produces the output vector $\\hat{y} = \\left(\\hat{y}_{0}, \\hat{y}_{1} \\right)^{T}$ of the forward pass."
   ]
  },
  {
   "cell_type": "markdown",
   "id": "e9a1d299",
   "metadata": {
    "cell_marker": "r\"\"\""
   },
   "source": [
    "> **A Feed Forward MLP with all details**\n",
    ">\n",
    "> For you to dive into all details, here is a pictorial representation of a MLP with all math operations spelled out.\n",
    ">\n",
    "> <div style=\"display: block;margin-left: auto;margin-right: auto;width: 75%;\"><img src=\"img/01_detailed_mlp.svg\" alt=\"detailed MLP\"></div>\n",
    ">\n",
    "> To read through it, take your hand to block out the right hand part of the network. Then follow the flow of datum $x_0$ through the hidden layers until the output layers. Once you are done following $x_0$, have a look at $x_1$. You will notice that the operations are the same, except the input.\n",
    ">\n",
    "> Some comments to the above:\n",
    "> - the figure omits the display of all matrix elements of $W^{I}$ and $W^{II}$ to remain clear for the reader\n",
    "> - the last layer does not explicitely state which activation $\\sigma$ is used. Depending on the use case, this activation function could be e.g. a [ReLU](https://en.wikipedia.org/wiki/ReLU) or [Sigmoid](https://en.wikipedia.org/wiki/Sigmoid_function) (often used for regression) or a [softmax](https://en.wikipedia.org/wiki/Softmax_function) function (often seen in multi-class classification problems). However, this is largely application-specific and driven by the required characteristics of the output (e.g. non-negativity, lying in a certain range, ...)."
   ]
  },
  {
   "cell_type": "markdown",
   "id": "4613636e",
   "metadata": {
    "cell_marker": "r\"\"\""
   },
   "source": [
    "**Exercise 01.1**\n",
    "\n",
    "<div style=\"display: block;margin-left: auto;margin-right: auto;width: 75%;\"><img src=\"img/01_detailed_mlp.svg\" alt=\"linear MLP with values\"></div>\n",
    "\n",
    "Take pen and paper or a digital equivalent. Mark the path of all computations which result in $\\hat{y}_{1}$! Write down the weight matrix elements which will be used to compute this output."
   ]
  },
  {
   "cell_type": "markdown",
   "id": "96e9f638",
   "metadata": {
    "jupyter": {
     "source_hidden": true
    },
    "lines_to_next_cell": 2
   },
   "source": [
    "**Solution 01.1**\n",
    "\n",
    "<div style=\"display: block;margin-left: auto;margin-right: auto;width: 75%;\"><img src=\"img/01_detailed_mlp.svg\" alt=\"linear MLP with values\"></div>\n",
    "\n",
    "All weight matrix elements will be used except the following 3 elements $W_{00}^{II}, W_{01}^{II}, W_{02}^{II}$ as they are required to calculate $\\hat{y}_0$. All results of the hidden layer will be used as inputs to the last layer, that is why all elements of $W^{I}$ are part of the calculation."
   ]
  },
  {
   "cell_type": "markdown",
   "id": "8a7db82b",
   "metadata": {},
   "source": [
    "## A simple MLP\n",
    "\n",
    "To start off this exericse, we want to construct a very simple MLP with one input unit, one hidden unit and one output unit. We will keep everything lightweight and one dimensional.\n",
    "\n",
    "<div style=\"display: block;margin-left: auto;margin-right: auto;width: 75%;\"><img src=\"img/01_1D_mlp.svg\" alt=\"1D MLP\"></div>\n",
    "\n",
    "In the above, the network receives an input datum $x$ and produces a hidden representation given by the vector $h$ as before.\n",
    "\n",
    "The output of the hidden unit will be considered to be the output of the forward pass (after applying the activation $\\sigma$). In order to establish a learning process, this prediction $\\hat{y}$ will be compared with a label $y$ using the loss the function $\\mathcal{L}(y,\\hat{y})$."
   ]
  },
  {
   "cell_type": "markdown",
   "id": "c8033e5e",
   "metadata": {
    "cell_marker": "r\"\"\""
   },
   "source": [
    "**Exercise 01.2**\n",
    "\n",
    "<div style=\"display: block;margin-left: auto;margin-right: auto;width: 75%;\"><img src=\"img/01_1D_mlp_filled.svg\" alt=\"linear MLP with values\"></div>\n",
    "\n",
    "Take pen and paper. Compute a full forward pass using the following values:\n",
    "\n",
    "- input $x = 2$\n",
    "- weight $W = .5$\n",
    "- bias $\\beta = 1$\n",
    "- label $y = 1.5$\n",
    "\n",
    "Use the [ReLU function](https://en.wikipedia.org/wiki/Rectifier_(neural_networks)) for $\\sigma$ and the mean squared error ([MSE](https://en.wikipedia.org/wiki/Mean_squared_error)) for the loss function."
   ]
  },
  {
   "cell_type": "markdown",
   "id": "93b32a69",
   "metadata": {
    "jupyter": {
     "source_hidden": true
    }
   },
   "source": [
    "> **Solution 01.2**\n",
    "> 1. Compute $W \\cdot x + \\beta$: We obtain `2`.\n",
    "> 2. Apply the ReLU: We obtain $\\hat{y}=2$ again (2 is larger than 0 and hence $f_{ReLU}(x=2)=2$).\n",
    "> 3. Compute the loss: $\\mathcal{L}(y,\\hat{y}) = (y-\\hat{y})^2 = (1.5 - 2)^2 = \\frac{1}{4}$"
   ]
  },
  {
   "cell_type": "markdown",
   "id": "4eb3073b",
   "metadata": {},
   "source": [
    "# Supervised Learning\n",
    "\n",
    "Given a dataset $\\mathcal{D} = \\{\\langle x_i, y_i\\rangle \\dots \\}$ with input data $x_{i} \\in \\mathbb{R}^n$ and labels $y_{i} \\in \\mathbb{R}^{2}$, we would like to train a model $f$ with parameters $\\varphi = \\{ W^{I}, \\beta^{I}, W^{II}, \\beta^{II} \\}$ such that\n",
    "\n",
    "$$ \\hat{y} = f(x|\\varphi) $$\n",
    "\n",
    "closely matches the observed label $y$.\n",
    "To achieve this goal, we alter the weights of our model $\\varphi$.\n",
    "In order to establish a learning process, our prediction $\\hat{y}$ will be compared with the observed label $y$ using a loss function $\\mathcal{L}(y,\\hat{y})$.\n",
    "An optimisation procedure is then employed to obtain a suitable set of weights $\\varphi$ by minimizing $\\mathcal{L}$:\n",
    "\n",
    "$ \\varphi^{*} \\approx \\text{argmin}_{\\varphi} \\mathcal{L}( y, \\hat{y} = f(x | \\varphi) ) $.\n",
    "\n",
    "The optimisation is performed using an iterative approach called [gradient descent](https://en.wikipedia.org/wiki/Gradient_descent). In this optimisation scheme, we update the parameters $\\varphi$ in a step-by-step fashion with the goal of approximating the optimal solution. After being randomly initialized, the parameters are updated at step $t+1$ from the parameters at step $t$ using the weight update rule:\n",
    "\n",
    "$$ \\varphi_{t+1} = \\varphi_{t} - \\alpha \\nabla_{\\varphi} \\mathcal{L}( y, f(x|\\varphi))|_{\\varphi=\\varphi_{t}} $$\n",
    "\n",
    "The above equation is called __weight update rule__. Here, the free parameter $\\alpha$ is also known as the __learning rate__."
   ]
  },
  {
   "cell_type": "markdown",
   "id": "c317ab68",
   "metadata": {},
   "source": [
    "## Backpropagation\n",
    "\n",
    "The central part of gradient descent is how to obtain the value of $\\nabla_{\\varphi}\\mathcal{L}$. This is performed by applying the chain rule of differentiation from the back of the model to the front. For the sake of simplicity, let's say we only have part of a model and no activation $\\sigma$ (or, equally, $\\sigma$ being the identity function): $\\tilde{f}(x|\\varphi) = W \\cdot x + \\beta = \\hat{y}$. To compute the gradient of this simple model $\\tilde{f}$, we have to start from the loss function $\\mathcal{L}(y,\\hat{y})= (y-\\hat{y})^2$:\n",
    "\n",
    "$$ \\nabla \\mathcal{L} = \\frac{\\partial\\mathcal{L}}{\\partial\\varphi} $$\n",
    "\n",
    "The gradient $\\nabla$ is calculated for each weight or bias term independently (as they are also used independently during the forward pass).\n",
    "\n",
    "$$ \\nabla_W \\mathcal{L} = \\frac{\\partial\\mathcal{L}}{\\partial W} $$\n",
    "\n",
    "We can now go forward and apply the chain rule to the differential above:\n",
    "\n",
    "$$ \\nabla_W \\mathcal{L} = \\frac{\\partial\\mathcal{L}}{\\partial W} = \\frac{\\partial\\mathcal{L}}{\\partial \\hat{y}}\\frac{\\partial \\hat{y}}{\\partial W}$$\n",
    "\n",
    "We can now move forward and evaluate each term of the chain rule expression:\n",
    "\n",
    "$$ \\frac{\\partial\\mathcal{L}}{\\partial \\hat{y}} = \\frac{\\partial (y-\\hat{y})^2}{\\partial \\hat{y}} = 2\\cdot(y-\\hat{y})\\cdot(-1)$$\n",
    "$$ \\frac{\\partial \\hat{y}}{\\partial W} = \\frac{\\partial (W \\cdot x + \\beta)}{\\partial W} = x $$\n",
    "\n",
    "If we now want to compute the value of the gradient, we would have to input concrete numbers to finally apply the weight update rule."
   ]
  },
  {
   "cell_type": "markdown",
   "id": "cbd4b48c",
   "metadata": {
    "cell_marker": "r\"\"\""
   },
   "source": [
    "**Exercise 01.3**\n",
    "\n",
    "Take pen and paper or a digital equivalent. Compute the gradient for $\\beta$, $\\nabla_\\beta \\mathcal{L}$ of our stub model $\\tilde{f}$!"
   ]
  },
  {
   "cell_type": "markdown",
   "id": "7b3bd1b7",
   "metadata": {
    "cell_marker": "r\"\"\"",
    "jupyter": {
     "source_hidden": true
    }
   },
   "source": [
    "> **Solution 01.3**\n",
    "> 1. Apply the chain rule to our stub network:\n",
    "> $$\\frac{\\partial\\mathcal{L}}{\\partial \\beta} = \\frac{\\partial\\mathcal{L}}{\\partial \\hat{y}}\\frac{\\partial \\hat{y}}{\\partial \\beta}$$\n",
    "> 2. Evaluate each subterm:\n",
    "> $$ \\frac{\\partial\\mathcal{L}}{\\partial \\hat{y}} = \\frac{\\partial (y-\\hat{y})^2}{\\partial \\hat{y}} = 2\\cdot(y-\\hat{y})\\cdot(-1)$$\n",
    "> $$ \\frac{\\partial \\hat{y}}{\\partial \\beta} = \\frac{\\partial (W \\cdot x + \\beta)}{\\partial \\beta} = 1 $$\n",
    "> 3. Put everything together:\n",
    "> $$ \\nabla_{\\beta} \\mathcal{L} = \\frac{\\partial\\mathcal{L}}{\\partial \\hat{y}}\\frac{\\partial \\hat{y}}{\\partial \\beta} = 2\\cdot(y-\\hat{y})\\cdot(-1) \\cdot 1 = -2\\cdot(y-\\hat{y})$$"
   ]
  },
  {
   "cell_type": "markdown",
   "id": "166ba615",
   "metadata": {},
   "source": [
    "## Putting it all together\n",
    "\n",
    "With the above derivations at hand, we are now ready to perform one iteration of gradient-descent-based optimisation by hand to conclude this pen&paper part of the exercise.\n",
    "\n",
    "To make this worth your time, we split the audience into groups. You will get distinct data sets. Please calculate the one iteration of gradient descent for your parameter set and check if gradient descent gets you closer to the label.\n",
    "\n",
    "**Exercise 01.4**\n",
    "\n",
    "Groups:\n",
    "1. $x=2$, $W=4$, $\\beta=2$, $y=5$, $\\alpha=0.1$\n",
    "2. $x=2$, $W=2$, $\\beta=0.25$, $y=5$, $\\alpha = 1$\n",
    "3. $x=2$, $W=-4$, $\\beta=2$, $y=5$, $\\alpha = 0.001$\n",
    "4. $x=2$, $W=2$, $\\beta=-0.25$, $y=5$, $\\alpha = 10$\n",
    "5. $x=2$, $W_0=1$, $\\beta=1$, $y=5$, $\\alpha = 0.5$"
   ]
  },
  {
   "cell_type": "markdown",
   "id": "85c1f61b",
   "metadata": {},
   "source": [
    "# Pytorch\n",
    "\n",
    "To par our pen & paper exercises with an introduction to one central library, we want to start off and compute the last exercise **01.4** in pytorch. This will also give us a chance to the check the results. On top, the central mechanisms of pytorch can be exposed which directly leads us into further topics of classification and more.\n"
   ]
  },
  {
   "cell_type": "markdown",
   "id": "83ea321f",
   "metadata": {},
   "source": [
    "## Our dataset\n",
    "\n",
    "We start out by defining the input data and the outputs. We will use the data of Group 1 as an example."
   ]
  },
  {
   "cell_type": "code",
   "execution_count": 9,
   "id": "cbd5c2e0",
   "metadata": {},
   "outputs": [],
   "source": [
    "import torch\n",
    "\n",
    "x = torch.Tensor([[2.]])\n",
    "y = torch.Tensor([[5.]])\n",
    "\n",
    "W = 4.\n",
    "beta = 2.\n",
    "alpha = 0.1"
   ]
  },
  {
   "cell_type": "markdown",
   "id": "332eb600",
   "metadata": {
    "cell_marker": "\"\"\""
   },
   "source": [
    "The central building block of `pytorch` is a `torch.Tensor` object. The API of `Tensor` is very similar to that of a `numpy.ndarray`. That makes it easier to switch between libraries."
   ]
  },
  {
   "cell_type": "markdown",
   "id": "741a8f53",
   "metadata": {},
   "source": [
    "## Our model\n",
    "\n",
    "We start out by defining the input data and the outputs. We will use the data of Group 1 as an example.\n",
    "To define a neural network, the mechanics of pytorch require us to define a class. This class needs to be derived from `torch.nn.Module`. Within the class, we have to define the `forward` function which is effectively the forward pass of our model and provide a constructor method `__init__`."
   ]
  },
  {
   "cell_type": "code",
   "execution_count": 3,
   "id": "d567a24c",
   "metadata": {
    "lines_to_next_cell": 1
   },
   "outputs": [],
   "source": [
    "class f_prime_model(torch.nn.Module):\n",
    "\n",
    "    def __init__(self):\n",
    "        super().__init__()\n",
    "        #for more complicated models, this constructor will be rather complicated\n",
    "        self.hidden0 = torch.nn.Linear(in_features=1, out_features=1)\n",
    "\n",
    "    def forward(self, x):\n",
    "        \"\"\" forward pass of our model, using x as the input data \"\"\"\n",
    "        y_hat = self.hidden0(x)\n",
    "\n",
    "        return y_hat"
   ]
  },
  {
   "cell_type": "code",
   "execution_count": 6,
   "id": "8fee5a50",
   "metadata": {},
   "outputs": [],
   "source": [
    "# let's instantiate the model\n",
    "model = f_prime_model()\n",
    "\n",
    "# we want to start at fixed values; as pytorch will automatically hook the model class up to it's capabilities to compute the gradient internally, we have to forbid this from happening here using the torch.no_grad context manager:\n",
    "\n",
    "with torch.no_grad():\n",
    "    model.hidden0.weight.fill_(W)\n",
    "    model.hidden0.bias.fill_(beta)"
   ]
  },
  {
   "cell_type": "code",
   "execution_count": 7,
   "id": "a90d1e7a",
   "metadata": {},
   "outputs": [
    {
     "name": "stdout",
     "output_type": "stream",
     "text": [
      "hidden0.weight 4.0\n",
      "hidden0.bias 2.0\n"
     ]
    }
   ],
   "source": [
    "# we can convince ourselves that we achieved to set the internal values of our model\n",
    "for param in model.named_parameters():\n",
    "    name, value = param\n",
    "    print(name, value.item())"
   ]
  },
  {
   "cell_type": "code",
   "execution_count": 10,
   "id": "5b6be36b",
   "metadata": {},
   "outputs": [
    {
     "name": "stdout",
     "output_type": "stream",
     "text": [
      "10.0 5.0\n"
     ]
    }
   ],
   "source": [
    "# A first feed forward pass can be invoced like this! Note the syntax model(x) effectively calls model.forward(x).\n",
    "\n",
    "with torch.no_grad():\n",
    "    y_hat = model(x)\n",
    "print(y_hat.item(), y.item())"
   ]
  },
  {
   "cell_type": "code",
   "execution_count": 11,
   "id": "4ef1e2f6",
   "metadata": {},
   "outputs": [],
   "source": [
    "# Now we want to set up our loss function. As we are interested in regression, we use the mean squared error [MSE](https://en.wikipedia.org/wiki/Mean_squared_error).\n",
    "loss_fn = torch.nn.MSELoss()"
   ]
  },
  {
   "cell_type": "code",
   "execution_count": 13,
   "id": "fbbba21f",
   "metadata": {},
   "outputs": [],
   "source": [
    "# Next, we want to set up the optimizer to perform one learning step. The constructor requires to provide the model parameters. This is the \"bridge\" to connect model with optimizer for the later optimization routine.\n",
    "opt = torch.optim.SGD(model.parameters(),lr=alpha)"
   ]
  },
  {
   "cell_type": "code",
   "execution_count": 14,
   "id": "fe792da7",
   "metadata": {},
   "outputs": [
    {
     "name": "stdout",
     "output_type": "stream",
     "text": [
      "Loss is 25.0\n"
     ]
    }
   ],
   "source": [
    "# finally we perform one feedforward pass and one backward pass\n",
    "\n",
    "y_hat = model(x)\n",
    "loss = loss_fn(y_hat, y) #loss function computed (computational graph is internally established)\n",
    "print(\"Loss is\", loss.item())\n",
    "\n",
    "loss.backward() #backpropagate through loss function\n",
    "opt.step() #weight updated step in model.paramters()"
   ]
  },
  {
   "cell_type": "code",
   "execution_count": 15,
   "id": "2fa39e3f",
   "metadata": {},
   "outputs": [
    {
     "name": "stdout",
     "output_type": "stream",
     "text": [
      "hidden0.weight -5.960464477539063e-08\n",
      "hidden0.bias -2.9802322387695312e-08\n"
     ]
    }
   ],
   "source": [
    "# let's first check if the model paramters changed\n",
    "\n",
    "for i in model.named_parameters():\n",
    "    name, value = i\n",
    "    print(name, value.item())\n",
    "\n",
    "# indeed they did change!"
   ]
  },
  {
   "cell_type": "code",
   "execution_count": 16,
   "id": "51459a0f",
   "metadata": {},
   "outputs": [
    {
     "name": "stdout",
     "output_type": "stream",
     "text": [
      "-1.4901161193847656e-07 5.0\n"
     ]
    }
   ],
   "source": [
    "# let's also check if the prediction changed\n",
    "with torch.no_grad():\n",
    "    y_hat = model(x)\n",
    "print(y_hat.item(), y.item())\n",
    "# indeed it did change too!"
   ]
  }
 ],
 "metadata": {
  "jupytext": {
   "formats": "ipynb,py:percent"
  },
  "kernelspec": {
   "display_name": "Python 3 (ipykernel)",
   "language": "python",
   "name": "python3"
  },
  "language_info": {
   "codemirror_mode": {
    "name": "ipython",
    "version": 3
   },
   "file_extension": ".py",
   "mimetype": "text/x-python",
   "name": "python",
   "nbconvert_exporter": "python",
   "pygments_lexer": "ipython3",
   "version": "3.10.12"
  }
 },
 "nbformat": 4,
 "nbformat_minor": 5
}
