{
 "cells": [
  {
   "cell_type": "markdown",
   "id": "8810a979",
   "metadata": {
    "cell_marker": "\"\"\""
   },
   "source": [
    "# Environment Check\n",
    "\n",
    "This notebook is intended for all learners to check their environment.\n",
    "\n",
    "This should print something like:\n",
    "\n",
    "```\n",
    "jupytext            : found, version 1.16.4\n",
    "ipykernel           : found, version 6.29.5\n",
    "notebook            : found, version 6.4.13\n",
    "torch               : found, version 2.4.1+rocm6.1\n",
    "seaborn             : found, version 0.13.2\n",
    "mnist1d             : found, (no version info)\n",
    "sklearn             : found, version 1.4.2\n",
    "torchinfo           : found, version 1.8.0\n",
    "```"
   ]
  },
  {
   "cell_type": "code",
   "execution_count": null,
   "id": "51b53c07",
   "metadata": {},
   "outputs": [],
   "source": [
    "import os\n",
    "\n",
    "from utils import import_check\n",
    "\n",
    "here = os.path.abspath(os.path.expanduser('.'))\n",
    "\n",
    "found = False\n",
    "for path in [here, f\"{here}/..\"]:\n",
    "    fn = f\"{path}/requirements.txt\"\n",
    "    if os.path.exists(fn):\n",
    "        print(f\"using: {fn}\")\n",
    "        import_check(fn)\n",
    "        found = True\n",
    "        break\n",
    "\n",
    "if not found:\n",
    "    raise Exception(\"requirements.txt not found\")"
   ]
  }
 ],
 "metadata": {
  "jupytext": {
   "formats": "ipynb,py:percent"
  },
  "kernelspec": {
   "display_name": "Python 3 (ipykernel)",
   "language": "python",
   "name": "python3"
  }
 },
 "nbformat": 4,
 "nbformat_minor": 5
}
