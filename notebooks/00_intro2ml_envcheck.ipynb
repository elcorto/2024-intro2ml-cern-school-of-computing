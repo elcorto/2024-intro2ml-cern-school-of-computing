{
 "cells": [
  {
   "cell_type": "markdown",
   "id": "8810a979",
   "metadata": {},
   "source": [
    "# Environment Check\n",
    "\n",
    "This notebook is intended for all learners to check their environment. Click through it to see if your environment is setup correctly."
   ]
  },
  {
   "cell_type": "code",
   "execution_count": null,
   "id": "51b53c07",
   "metadata": {},
   "outputs": [],
   "source": [
    "import torch\n",
    "\n",
    "print(\"torch installed, \", torch.__version__)"
   ]
  },
  {
   "cell_type": "code",
   "execution_count": null,
   "id": "133444b1",
   "metadata": {},
   "outputs": [],
   "source": [
    "\n",
    "import seaborn\n",
    "\n",
    "print(\"seaborn installed, \", seaborn.__version__)"
   ]
  },
  {
   "cell_type": "markdown",
   "id": "331546b7",
   "metadata": {
    "cell_marker": "r\"\"\""
   },
   "source": [
    "For most of the notebooks, we require the handy [MNIST1D](https://github.com/greydanus/mnist1d) dataset which is both small, versatile and tricky. The dataset can be installed as a `pip` package.\n",
    "\n",
    "If you are working on CERN's SWAN, you need to install this atop of the LCG `105a` image. To do so, create a new cell below and run the following command in it:\n",
    "```\n",
    "!python -m pip install --user mnist1d\n",
    "```\n",
    "This will install `mnist1d` in your CERNBox environment."
   ]
  },
  {
   "cell_type": "code",
   "execution_count": null,
   "id": "b6bd22de",
   "metadata": {},
   "outputs": [],
   "source": [
    "import mnist1d\n",
    "\n",
    "if hasattr(mnist1d, \"get_dataset\"):\n",
    "    print(\"mnist1d installed!\")\n",
    "else:\n",
    "    print(\"mnist1d NOT installed. See instructions for details.\")"
   ]
  },
  {
   "cell_type": "markdown",
   "id": "93e3855f",
   "metadata": {
    "cell_marker": "r\"\"\""
   },
   "source": [
    "If you were able to run the notebook until this point without any errors, you are"
   ]
  },
  {
   "cell_type": "code",
   "execution_count": null,
   "id": "fe7b8434",
   "metadata": {},
   "outputs": [],
   "source": [
    "print(\"READY to GO!\")"
   ]
  },
  {
   "cell_type": "markdown",
   "id": "7bfea9cd",
   "metadata": {
    "cell_marker": "r\"\"\""
   },
   "source": [
    "If you are working on CERN's SWAN system, please log out and close all notebooks. Then login again, but make sure to tick `Use Python Packages installed on CERNBox` in the __Software Stack__ pane."
   ]
  }
 ],
 "metadata": {
  "jupytext": {
   "formats": "ipynb,py:percent"
  },
  "kernelspec": {
   "display_name": "Python 3 (ipykernel)",
   "language": "python",
   "name": "python3"
  }
 },
 "nbformat": 4,
 "nbformat_minor": 5
}
