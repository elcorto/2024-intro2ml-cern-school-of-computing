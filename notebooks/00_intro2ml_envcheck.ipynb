{
 "cells": [
  {
   "cell_type": "markdown",
   "id": "8810a979",
   "metadata": {
    "cell_marker": "\"\"\""
   },
   "source": [
    "# Environment Check\n",
    "\n",
    "This notebook is intended for all learners to check their environment. Please\n",
    "run this from within the \"notebooks\" directory.\n",
    "\n",
    "This should print something like:\n",
    "\n",
    "```\n",
    "jupytext            : found, version 1.16.4\n",
    "ipykernel           : found, version 6.29.5\n",
    "notebook            : found, version 6.4.13\n",
    "torch               : found, version 2.4.1+rocm6.1\n",
    "seaborn             : found, version 0.13.2\n",
    "mnist1d             : found, (no version info)\n",
    "sklearn             : found, version 1.4.2\n",
    "torchinfo           : found, version 1.8.0\n",
    "```"
   ]
  },
  {
   "cell_type": "code",
   "execution_count": null,
   "id": "51b53c07",
   "metadata": {},
   "outputs": [],
   "source": [
    "from utils import import_check\n",
    "\n",
    "import_check(\"../requirements.txt\")"
   ]
  }
 ],
 "metadata": {
  "jupytext": {
   "formats": "ipynb,py:percent"
  },
  "kernelspec": {
   "display_name": "Python 3 (ipykernel)",
   "language": "python",
   "name": "python3"
  }
 },
 "nbformat": 4,
 "nbformat_minor": 5
}
