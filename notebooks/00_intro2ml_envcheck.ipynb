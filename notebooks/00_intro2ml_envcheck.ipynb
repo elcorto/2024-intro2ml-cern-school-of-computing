{
 "cells": [
  {
   "cell_type": "markdown",
   "id": "8810a979",
   "metadata": {},
   "source": [
    "# Environment Check\n",
    "\n",
    "This notebook is intended for all learners to check their environment. Click\n",
    "through it to see if your environment is setup correctly."
   ]
  },
  {
   "cell_type": "code",
   "execution_count": null,
   "id": "51b53c07",
   "metadata": {},
   "outputs": [],
   "source": [
    "import torch\n",
    "\n",
    "print(\"torch installed, \", torch.__version__)"
   ]
  },
  {
   "cell_type": "code",
   "execution_count": null,
   "id": "133444b1",
   "metadata": {},
   "outputs": [],
   "source": [
    "import seaborn\n",
    "\n",
    "print(\"seaborn installed, \", seaborn.__version__)"
   ]
  },
  {
   "cell_type": "markdown",
   "id": "331546b7",
   "metadata": {},
   "source": [
    "\n",
    "For most of the notebooks, we require the handy\n",
    "[MNIST1D](https://github.com/greydanus/mnist1d) dataset which is both small,\n",
    "versatile and tricky. The dataset can be installed as a `pip` package.\n",
    "\n",
    "To do so, create a new cell below and run the following command in it:\n",
    "\n",
    "```\n",
    "!python -m pip install --user mnist1d\n",
    "```"
   ]
  },
  {
   "cell_type": "code",
   "execution_count": null,
   "id": "b6bd22de",
   "metadata": {},
   "outputs": [],
   "source": [
    "import mnist1d\n",
    "\n",
    "if hasattr(mnist1d, \"get_dataset\"):\n",
    "    print(\"mnist1d installed!\")\n",
    "else:\n",
    "    print(\"mnist1d NOT installed. See instructions for details.\")"
   ]
  },
  {
   "cell_type": "markdown",
   "id": "93e3855f",
   "metadata": {},
   "source": [
    "\n",
    "If you were able to run the notebook until this point without any errors, you are"
   ]
  },
  {
   "cell_type": "code",
   "execution_count": null,
   "id": "fe7b8434",
   "metadata": {},
   "outputs": [],
   "source": [
    "print(\"READY to GO!\")"
   ]
  }
 ],
 "metadata": {
  "jupytext": {
   "formats": "ipynb,py:percent"
  },
  "kernelspec": {
   "display_name": "Python 3 (ipykernel)",
   "language": "python",
   "name": "python3"
  }
 },
 "nbformat": 4,
 "nbformat_minor": 5
}
